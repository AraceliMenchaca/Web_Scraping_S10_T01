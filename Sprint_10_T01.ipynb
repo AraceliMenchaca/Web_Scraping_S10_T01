{
 "cells": [
  {
   "cell_type": "markdown",
   "id": "62669749",
   "metadata": {},
   "source": [
    "# Sprint 10\n",
    "\n",
    "## Tasca M10 T01\n",
    "\n",
    "## Ejercicio 1\n",
    "\n",
    "Realiza web scraping de dos de las tres páginas web propuestas utilizando BeautifulSoup primero y Selenium después.\n",
    "\n",
    "* http://quotes.toscrape.com\n",
    "\n",
    "* https://www.bolsamadrid.es\n",
    "\n",
    "* www.wikipedia.es "
   ]
  },
  {
   "cell_type": "markdown",
   "id": "83c799e8",
   "metadata": {},
   "source": [
    "Seleccionamos las páginas web de:\n",
    "\n",
    "* Quotes to Scrape\n",
    "* Wikipedia - Rick and Morty"
   ]
  },
  {
   "cell_type": "markdown",
   "id": "3d618edd",
   "metadata": {},
   "source": [
    "### BeautifulSoup"
   ]
  },
  {
   "cell_type": "markdown",
   "id": "a1b09916",
   "metadata": {},
   "source": [
    "**Quotes to Scrape: http://quotes.toscrape.com**"
   ]
  },
  {
   "cell_type": "code",
   "execution_count": 1,
   "id": "e07a48e9",
   "metadata": {},
   "outputs": [
    {
     "data": {
      "text/plain": [
       "200"
      ]
     },
     "execution_count": 1,
     "metadata": {},
     "output_type": "execute_result"
    }
   ],
   "source": [
    "from bs4 import BeautifulSoup\n",
    "import requests\n",
    "\n",
    "url = 'http://quotes.toscrape.com/'\n",
    "response_quotes = requests.get(url)\n",
    "response_quotes.status_code"
   ]
  },
  {
   "cell_type": "code",
   "execution_count": 2,
   "id": "c1bb0ad6",
   "metadata": {},
   "outputs": [
    {
     "name": "stdout",
     "output_type": "stream",
     "text": [
      "“The world as we have created it is a process of our thinking. It cannot be changed without changing our thinking.”\n"
     ]
    }
   ],
   "source": [
    "soup_quotes = BeautifulSoup(response_quotes.content)\n",
    "quote_1 = soup_quotes.find('span')\n",
    "print(quote_1.text)"
   ]
  },
  {
   "cell_type": "code",
   "execution_count": 3,
   "id": "5ab6ad1c",
   "metadata": {},
   "outputs": [
    {
     "name": "stdout",
     "output_type": "stream",
     "text": [
      "Albert Einstein\n"
     ]
    }
   ],
   "source": [
    "author = soup_quotes.find('small', class_='author')\n",
    "print(author.text)"
   ]
  },
  {
   "cell_type": "markdown",
   "id": "c3094d64",
   "metadata": {},
   "source": [
    "Comenzamos explorando la página web Quotes to Scrape, la cual es una plataforma sencilla que alberga citas de personas famosas, acompañadas de los nombres de los autores y algunos tags emocionales. Esta página fue creada con el propósito de practicar el web scraping, de ahí su nombre.\n",
    "\n",
    "Para llevar a cabo esta tarea, importamos las librerías necesarias y luego realizamos una solicitud a la página para confirmar su estado. Como resultado, recibimos el código de respuesta 200, lo cual indica que todo está en orden."
   ]
  },
  {
   "cell_type": "code",
   "execution_count": 12,
   "id": "38c0b0d7",
   "metadata": {},
   "outputs": [
    {
     "name": "stdout",
     "output_type": "stream",
     "text": [
      "“The world as we have created it is a process of our thinking. It cannot be changed without changing our thinking.”\n",
      "Albert Einstein\n",
      "“It is our choices, Harry, that show what we truly are, far more than our abilities.”\n",
      "J.K. Rowling\n",
      "“There are only two ways to live your life. One is as though nothing is a miracle. The other is as though everything is a miracle.”\n",
      "Albert Einstein\n",
      "“The person, be it gentleman or lady, who has not pleasure in a good novel, must be intolerably stupid.”\n",
      "Jane Austen\n",
      "“Imperfection is beauty, madness is genius and it's better to be absolutely ridiculous than absolutely boring.”\n",
      "Marilyn Monroe\n",
      "“Try not to become a man of success. Rather become a man of value.”\n",
      "Albert Einstein\n",
      "“It is better to be hated for what you are than to be loved for what you are not.”\n",
      "André Gide\n",
      "“I have not failed. I've just found 10,000 ways that won't work.”\n",
      "Thomas A. Edison\n",
      "“A woman is like a tea bag; you never know how strong it is until it's in hot water.”\n",
      "Eleanor Roosevelt\n",
      "“A day without sunshine is like, you know, night.”\n",
      "Steve Martin\n"
     ]
    }
   ],
   "source": [
    "quotes = soup_quotes.find_all(class_='text')\n",
    "authors = soup_quotes.find_all('small', class_='author')\n",
    "\n",
    "for quote, author in zip(quotes, authors):\n",
    "    print(quote.text)\n",
    "    print(author.text) "
   ]
  },
  {
   "cell_type": "markdown",
   "id": "98b09bbe",
   "metadata": {},
   "source": [
    "Para obtener todas las citas junto con los nombres de los autores, se utiliza un bucle que extrae estos elementos de la página web."
   ]
  },
  {
   "cell_type": "markdown",
   "id": "b086d82a",
   "metadata": {},
   "source": [
    "**Wikipedia**"
   ]
  },
  {
   "cell_type": "code",
   "execution_count": 13,
   "id": "45d10048",
   "metadata": {},
   "outputs": [],
   "source": [
    "url = 'https://en.wikipedia.org/wiki/Rick_and_Morty'\n",
    "response_wiki = requests.get(url)"
   ]
  },
  {
   "cell_type": "code",
   "execution_count": 15,
   "id": "669e074f",
   "metadata": {},
   "outputs": [
    {
     "data": {
      "text/html": [
       "<div>\n",
       "<style scoped>\n",
       "    .dataframe tbody tr th:only-of-type {\n",
       "        vertical-align: middle;\n",
       "    }\n",
       "\n",
       "    .dataframe tbody tr th {\n",
       "        vertical-align: top;\n",
       "    }\n",
       "\n",
       "    .dataframe thead th {\n",
       "        text-align: right;\n",
       "    }\n",
       "</style>\n",
       "<table border=\"1\" class=\"dataframe\">\n",
       "  <thead>\n",
       "    <tr style=\"text-align: right;\">\n",
       "      <th></th>\n",
       "      <th>Seasons</th>\n",
       "      <th>Episodes</th>\n",
       "      <th>First Aired</th>\n",
       "      <th>Last Aired</th>\n",
       "    </tr>\n",
       "  </thead>\n",
       "  <tbody>\n",
       "    <tr>\n",
       "      <th>0</th>\n",
       "      <td>1</td>\n",
       "      <td>11</td>\n",
       "      <td>December 2, 2013 (2013-12-02)</td>\n",
       "      <td>April 14, 2014 (2014-04-14)</td>\n",
       "    </tr>\n",
       "    <tr>\n",
       "      <th>1</th>\n",
       "      <td>2</td>\n",
       "      <td>10</td>\n",
       "      <td>July 26, 2015 (2015-07-26)</td>\n",
       "      <td>October 4, 2015 (2015-10-04)</td>\n",
       "    </tr>\n",
       "    <tr>\n",
       "      <th>2</th>\n",
       "      <td>3</td>\n",
       "      <td>10</td>\n",
       "      <td>April 1, 2017 (2017-04-01)[a]</td>\n",
       "      <td>October 1, 2017 (2017-10-01)</td>\n",
       "    </tr>\n",
       "    <tr>\n",
       "      <th>3</th>\n",
       "      <td>4</td>\n",
       "      <td>10</td>\n",
       "      <td>November 10, 2019 (2019-11-10)</td>\n",
       "      <td>May 31, 2020 (2020-05-31)</td>\n",
       "    </tr>\n",
       "    <tr>\n",
       "      <th>4</th>\n",
       "      <td>5</td>\n",
       "      <td>10</td>\n",
       "      <td>June 20, 2021 (2021-06-20)</td>\n",
       "      <td>September 5, 2021 (2021-09-05)</td>\n",
       "    </tr>\n",
       "    <tr>\n",
       "      <th>5</th>\n",
       "      <td>6</td>\n",
       "      <td>10</td>\n",
       "      <td>September 4, 2022 (2022-09-04)</td>\n",
       "      <td>December 11, 2022 (2022-12-11)</td>\n",
       "    </tr>\n",
       "  </tbody>\n",
       "</table>\n",
       "</div>"
      ],
      "text/plain": [
       "   Seasons Episodes                     First Aired  \\\n",
       "0        1       11   December 2, 2013 (2013-12-02)   \n",
       "1        2       10      July 26, 2015 (2015-07-26)   \n",
       "2        3       10   April 1, 2017 (2017-04-01)[a]   \n",
       "3        4       10  November 10, 2019 (2019-11-10)   \n",
       "4        5       10      June 20, 2021 (2021-06-20)   \n",
       "5        6       10  September 4, 2022 (2022-09-04)   \n",
       "\n",
       "                       Last Aired  \n",
       "0     April 14, 2014 (2014-04-14)  \n",
       "1    October 4, 2015 (2015-10-04)  \n",
       "2    October 1, 2017 (2017-10-01)  \n",
       "3       May 31, 2020 (2020-05-31)  \n",
       "4  September 5, 2021 (2021-09-05)  \n",
       "5  December 11, 2022 (2022-12-11)  "
      ]
     },
     "execution_count": 15,
     "metadata": {},
     "output_type": "execute_result"
    }
   ],
   "source": [
    "soup = BeautifulSoup(response_wiki.text, 'lxml')\n",
    "table = soup.find('table', class_='wikitable')\n",
    "\n",
    "episodes = []\n",
    "first_Aired = []\n",
    "last_Aired = []\n",
    "\n",
    "rows = table.find_all('tr')[1:]\n",
    "\n",
    "for row in rows:\n",
    "    celdas = row.find_all('td')\n",
    "    if len(celdas) >= 1:\n",
    "        episode = celdas[0].text.strip()\n",
    "        first_aired = celdas [1].text.strip()\n",
    "        last_aired = celdas [2].text.strip()\n",
    "    \n",
    "\n",
    "        episodes.append(episode)\n",
    "        first_Aired.append(first_aired)\n",
    "        last_Aired.append(last_aired)\n",
    "        \n",
    "import pandas as pd\n",
    "data = {'Seasons': [1, 2, 3, 4, 5, 6], 'Episodes':episodes, 'First Aired':first_Aired, 'Last Aired':last_Aired}\n",
    "df = pd.DataFrame(data)\n",
    "df"
   ]
  },
  {
   "cell_type": "markdown",
   "id": "5904d7c2",
   "metadata": {},
   "source": [
    "Con la página web de Wikipedia - Rick and Morty, se realiza la extracción de la tabla que muestra las fechas de transmisión de las temporadas.\n",
    "\n",
    "El código extrae la información y la transforma en un dataframe de Pandas para mejorar su visualización. Sin embargo, es importante tener en cuenta que la tabla contiene información repetida que necesita ser limpiada."
   ]
  },
  {
   "cell_type": "code",
   "execution_count": 16,
   "id": "3a59ffc2",
   "metadata": {},
   "outputs": [
    {
     "data": {
      "text/html": [
       "<div>\n",
       "<style scoped>\n",
       "    .dataframe tbody tr th:only-of-type {\n",
       "        vertical-align: middle;\n",
       "    }\n",
       "\n",
       "    .dataframe tbody tr th {\n",
       "        vertical-align: top;\n",
       "    }\n",
       "\n",
       "    .dataframe thead th {\n",
       "        text-align: right;\n",
       "    }\n",
       "</style>\n",
       "<table border=\"1\" class=\"dataframe\">\n",
       "  <thead>\n",
       "    <tr style=\"text-align: right;\">\n",
       "      <th></th>\n",
       "      <th>Seasons</th>\n",
       "      <th>Episodes</th>\n",
       "      <th>First Aired</th>\n",
       "      <th>Last Aired</th>\n",
       "    </tr>\n",
       "  </thead>\n",
       "  <tbody>\n",
       "    <tr>\n",
       "      <th>0</th>\n",
       "      <td>1</td>\n",
       "      <td>11</td>\n",
       "      <td>December 2, 2013</td>\n",
       "      <td>April 14, 2014</td>\n",
       "    </tr>\n",
       "    <tr>\n",
       "      <th>1</th>\n",
       "      <td>2</td>\n",
       "      <td>10</td>\n",
       "      <td>July 26, 2015</td>\n",
       "      <td>October 4, 2015</td>\n",
       "    </tr>\n",
       "    <tr>\n",
       "      <th>2</th>\n",
       "      <td>3</td>\n",
       "      <td>10</td>\n",
       "      <td>April 1, 2017</td>\n",
       "      <td>October 1, 2017</td>\n",
       "    </tr>\n",
       "    <tr>\n",
       "      <th>3</th>\n",
       "      <td>4</td>\n",
       "      <td>10</td>\n",
       "      <td>November 10, 2019</td>\n",
       "      <td>May 31, 2020</td>\n",
       "    </tr>\n",
       "    <tr>\n",
       "      <th>4</th>\n",
       "      <td>5</td>\n",
       "      <td>10</td>\n",
       "      <td>June 20, 2021</td>\n",
       "      <td>September 5, 2021</td>\n",
       "    </tr>\n",
       "    <tr>\n",
       "      <th>5</th>\n",
       "      <td>6</td>\n",
       "      <td>10</td>\n",
       "      <td>September 4, 2022</td>\n",
       "      <td>December 11, 2022</td>\n",
       "    </tr>\n",
       "  </tbody>\n",
       "</table>\n",
       "</div>"
      ],
      "text/plain": [
       "   Seasons Episodes         First Aired          Last Aired\n",
       "0        1       11   December 2, 2013      April 14, 2014 \n",
       "1        2       10      July 26, 2015     October 4, 2015 \n",
       "2        3       10       April 1, 2017    October 1, 2017 \n",
       "3        4       10  November 10, 2019        May 31, 2020 \n",
       "4        5       10      June 20, 2021   September 5, 2021 \n",
       "5        6       10  September 4, 2022   December 11, 2022 "
      ]
     },
     "execution_count": 16,
     "metadata": {},
     "output_type": "execute_result"
    }
   ],
   "source": [
    "df['Last Aired'] = df['Last Aired'].str.replace(r\"\\([^()]*\\)\", \"\", regex=True)\n",
    "df['First Aired'] = df['First Aired'].str.replace(r\"\\([^()]*\\)\", \"\", regex=True)\n",
    "df['First Aired'] = df['First Aired'].str.replace(r\"\\s\\[\\w\\]\",  \"\", regex=True)\n",
    "df"
   ]
  },
  {
   "cell_type": "markdown",
   "id": "2e11e7ab",
   "metadata": {},
   "source": [
    "Una vez que se ha realizado la limpieza del dataframe, se observa que este consta de 6 filas y 4 columnas.\n",
    "\n",
    "A pesar de ser una tabla de tamaño reducido, se decidió extraerla directamente de la página web para practicar la búsqueda de los elementos necesarios en el código HTML y CSS de la página. \n",
    "\n",
    "Durante este proceso, nos encontramos con limitaciones debido al formato de la tabla, lo que requirió agregar manualmente la columna \"Seasons\". Es importante destacar que esta situación puede plantear complicaciones en proyectos más grandes."
   ]
  },
  {
   "cell_type": "markdown",
   "id": "40033b2b",
   "metadata": {},
   "source": [
    "### Selenium"
   ]
  },
  {
   "cell_type": "markdown",
   "id": "19eb25aa",
   "metadata": {},
   "source": [
    "Repetimos el proceso de extracción de datos, pero en esta ocasión utilizamos la biblioteca Selenium. Utilizando Selenium, navegaremos por las mismas páginas web para extraer la misma información de interés. \n",
    "\n",
    "Esto nos brinda la oportunidad de comparar los resultados obtenidos con BeautifulSoup y también nos permite adquirir experiencia en el uso de Selenium para la extracción de datos."
   ]
  },
  {
   "cell_type": "code",
   "execution_count": 24,
   "id": "e0a1f964",
   "metadata": {},
   "outputs": [],
   "source": [
    "from selenium import webdriver\n",
    "from selenium.webdriver.chrome.service import Service\n",
    "from selenium.webdriver.chrome.options import Options\n",
    "from selenium.webdriver.common.by import By\n",
    "from webdriver_manager.chrome import ChromeDriverManager"
   ]
  },
  {
   "cell_type": "markdown",
   "id": "c170d77f",
   "metadata": {},
   "source": [
    "**Quotes to Scrape: http://quotes.toscrape.com**"
   ]
  },
  {
   "cell_type": "code",
   "execution_count": 27,
   "id": "d953eeb6",
   "metadata": {},
   "outputs": [],
   "source": [
    "options = Options()\n",
    "options.add_argument('--detach')\n",
    "\n",
    "driver = webdriver.Chrome(service=Service(ChromeDriverManager().install()), \n",
    "                          options = options)\n",
    "driver.get('http://quotes.toscrape.com//')"
   ]
  },
  {
   "cell_type": "code",
   "execution_count": 28,
   "id": "8859f06e",
   "metadata": {},
   "outputs": [
    {
     "name": "stdout",
     "output_type": "stream",
     "text": [
      "“The world as we have created it is a process of our thinking. It cannot be changed without changing our thinking.”\n",
      "by Albert Einstein (about)\n",
      "Tags: change deep-thoughts thinking world\n",
      "“It is our choices, Harry, that show what we truly are, far more than our abilities.”\n",
      "by J.K. Rowling (about)\n",
      "Tags: abilities choices\n",
      "“There are only two ways to live your life. One is as though nothing is a miracle. The other is as though everything is a miracle.”\n",
      "by Albert Einstein (about)\n",
      "Tags: inspirational life live miracle miracles\n",
      "“The person, be it gentleman or lady, who has not pleasure in a good novel, must be intolerably stupid.”\n",
      "by Jane Austen (about)\n",
      "Tags: aliteracy books classic humor\n",
      "“Imperfection is beauty, madness is genius and it's better to be absolutely ridiculous than absolutely boring.”\n",
      "by Marilyn Monroe (about)\n",
      "Tags: be-yourself inspirational\n",
      "“Try not to become a man of success. Rather become a man of value.”\n",
      "by Albert Einstein (about)\n",
      "Tags: adulthood success value\n",
      "“It is better to be hated for what you are than to be loved for what you are not.”\n",
      "by André Gide (about)\n",
      "Tags: life love\n",
      "“I have not failed. I've just found 10,000 ways that won't work.”\n",
      "by Thomas A. Edison (about)\n",
      "Tags: edison failure inspirational paraphrased\n",
      "“A woman is like a tea bag; you never know how strong it is until it's in hot water.”\n",
      "by Eleanor Roosevelt (about)\n",
      "Tags: misattributed-eleanor-roosevelt\n",
      "“A day without sunshine is like, you know, night.”\n",
      "by Steve Martin (about)\n",
      "Tags: humor obvious simile\n"
     ]
    }
   ],
   "source": [
    "quotes = driver.find_elements(By.CSS_SELECTOR, '.quote')\n",
    "for quote in quotes:\n",
    "    print(quote.text)"
   ]
  },
  {
   "cell_type": "markdown",
   "id": "86cf1887",
   "metadata": {},
   "source": [
    "Hemos observado que la extracción de datos es considerablemente más sencilla y completa al utilizar la biblioteca Selenium, además de requerir menos líneas de código. Un ejemplo notable es la extracción automática de la sección de Tags. También hemos apreciado que el proceso resulta más amigable y fácil de utilizar en comparación con BeautifulSoup.\n",
    "\n",
    "La simplicidad y completitud de la extracción de datos se deben a la capacidad de Selenium para interactuar directamente con los elementos de la página web, lo cual facilita la automatización de acciones complejas. "
   ]
  },
  {
   "cell_type": "markdown",
   "id": "0d52a022",
   "metadata": {},
   "source": [
    "**Wikipedia**"
   ]
  },
  {
   "cell_type": "code",
   "execution_count": 29,
   "id": "d3a72d9e",
   "metadata": {},
   "outputs": [],
   "source": [
    "options = Options()\n",
    "options.add_argument(\"--headless\")\n",
    "\n",
    "driver = webdriver.Chrome(service=Service(ChromeDriverManager().install()), \n",
    "                            options=options)\n",
    "\n",
    "driver.get('https://en.wikipedia.org/wiki/Rick_and_Morty')"
   ]
  },
  {
   "cell_type": "code",
   "execution_count": 22,
   "id": "2905a2fb",
   "metadata": {},
   "outputs": [
    {
     "name": "stdout",
     "output_type": "stream",
     "text": [
      "Season Episodes Originally aired\n",
      "First aired Last aired\n",
      "1\n",
      "11 December 2, 2013 April 14, 2014\n",
      "2\n",
      "10 July 26, 2015 October 4, 2015\n",
      "3\n",
      "10 April 1, 2017[a] October 1, 2017\n",
      "4\n",
      "10 November 10, 2019 May 31, 2020\n",
      "5\n",
      "10 June 20, 2021 September 5, 2021\n",
      "6\n",
      "10 September 4, 2022 December 11, 2022\n"
     ]
    }
   ],
   "source": [
    "tabla = driver.find_element(By.CSS_SELECTOR, 'table.wikitable.plainrowheaders')\n",
    "print(tabla.text)"
   ]
  },
  {
   "cell_type": "markdown",
   "id": "a2f1da2a",
   "metadata": {},
   "source": [
    "De igual manera, al utilizar Selenium para extraer el contenido de la tabla, notamos una notable simplificación del proceso, logrando obtener los datos deseados con tan solo una línea de código."
   ]
  },
  {
   "cell_type": "code",
   "execution_count": 23,
   "id": "c3be9fbe",
   "metadata": {},
   "outputs": [
    {
     "data": {
      "text/html": [
       "<div>\n",
       "<style scoped>\n",
       "    .dataframe tbody tr th:only-of-type {\n",
       "        vertical-align: middle;\n",
       "    }\n",
       "\n",
       "    .dataframe tbody tr th {\n",
       "        vertical-align: top;\n",
       "    }\n",
       "\n",
       "    .dataframe thead th {\n",
       "        text-align: right;\n",
       "    }\n",
       "</style>\n",
       "<table border=\"1\" class=\"dataframe\">\n",
       "  <thead>\n",
       "    <tr style=\"text-align: right;\">\n",
       "      <th></th>\n",
       "      <th>Seasons</th>\n",
       "      <th>Episodes</th>\n",
       "      <th>First Aired</th>\n",
       "      <th>Last Aired</th>\n",
       "    </tr>\n",
       "  </thead>\n",
       "  <tbody>\n",
       "    <tr>\n",
       "      <th>0</th>\n",
       "      <td>1</td>\n",
       "      <td>11</td>\n",
       "      <td>December 2, 2013</td>\n",
       "      <td>April 14, 2014</td>\n",
       "    </tr>\n",
       "    <tr>\n",
       "      <th>1</th>\n",
       "      <td>2</td>\n",
       "      <td>10</td>\n",
       "      <td>July 26, 2015</td>\n",
       "      <td>October 4, 2015</td>\n",
       "    </tr>\n",
       "    <tr>\n",
       "      <th>2</th>\n",
       "      <td>3</td>\n",
       "      <td>10</td>\n",
       "      <td>April 1, 2017[a]</td>\n",
       "      <td>October 1, 2017</td>\n",
       "    </tr>\n",
       "    <tr>\n",
       "      <th>3</th>\n",
       "      <td>4</td>\n",
       "      <td>10</td>\n",
       "      <td>November 10, 2019</td>\n",
       "      <td>May 31, 2020</td>\n",
       "    </tr>\n",
       "    <tr>\n",
       "      <th>4</th>\n",
       "      <td>5</td>\n",
       "      <td>10</td>\n",
       "      <td>June 20, 2021</td>\n",
       "      <td>September 5, 2021</td>\n",
       "    </tr>\n",
       "    <tr>\n",
       "      <th>5</th>\n",
       "      <td>6</td>\n",
       "      <td>10</td>\n",
       "      <td>September 4, 2022</td>\n",
       "      <td>December 11, 2022</td>\n",
       "    </tr>\n",
       "  </tbody>\n",
       "</table>\n",
       "</div>"
      ],
      "text/plain": [
       "   Seasons Episodes        First Aired         Last Aired\n",
       "0        1       11   December 2, 2013     April 14, 2014\n",
       "1        2       10      July 26, 2015    October 4, 2015\n",
       "2        3       10   April 1, 2017[a]    October 1, 2017\n",
       "3        4       10  November 10, 2019       May 31, 2020\n",
       "4        5       10      June 20, 2021  September 5, 2021\n",
       "5        6       10  September 4, 2022  December 11, 2022"
      ]
     },
     "execution_count": 23,
     "metadata": {},
     "output_type": "execute_result"
    }
   ],
   "source": [
    "episodes = []\n",
    "first_Aired = []\n",
    "last_Aired = []\n",
    "\n",
    "rows = tabla.find_elements(By.TAG_NAME, \"tr\")\n",
    "\n",
    "for row in rows:\n",
    "    celdas = row.find_elements(By.TAG_NAME, \"td\")\n",
    "    if len(celdas) >= 1:\n",
    "        episode = celdas[0].text.strip()\n",
    "        first_aired = celdas[1].text.strip()\n",
    "        last_aired = celdas[2].text.strip()\n",
    "\n",
    "        episodes.append(episode)\n",
    "        first_Aired.append(first_aired)\n",
    "        last_Aired.append(last_aired)\n",
    "\n",
    "data = {'Seasons': [1, 2, 3, 4, 5, 6], 'Episodes':episodes, 'First Aired':first_Aired, 'Last Aired':last_Aired}\n",
    "\n",
    "df_tabla = pd.DataFrame(data)\n",
    "df_tabla"
   ]
  },
  {
   "cell_type": "markdown",
   "id": "49e9f62b",
   "metadata": {},
   "source": [
    "El código para crear el dataframe es bastante similar utilizando tanto Beautiful Soup como Selenium. Sin embargo, hemos observado que el dataframe producido por Selenium tiende a ser más limpio y estructurado en comparación."
   ]
  },
  {
   "cell_type": "code",
   "execution_count": 24,
   "id": "85673a53",
   "metadata": {},
   "outputs": [
    {
     "data": {
      "text/html": [
       "<div>\n",
       "<style scoped>\n",
       "    .dataframe tbody tr th:only-of-type {\n",
       "        vertical-align: middle;\n",
       "    }\n",
       "\n",
       "    .dataframe tbody tr th {\n",
       "        vertical-align: top;\n",
       "    }\n",
       "\n",
       "    .dataframe thead th {\n",
       "        text-align: right;\n",
       "    }\n",
       "</style>\n",
       "<table border=\"1\" class=\"dataframe\">\n",
       "  <thead>\n",
       "    <tr style=\"text-align: right;\">\n",
       "      <th></th>\n",
       "      <th>Seasons</th>\n",
       "      <th>Episodes</th>\n",
       "      <th>First Aired</th>\n",
       "      <th>Last Aired</th>\n",
       "    </tr>\n",
       "  </thead>\n",
       "  <tbody>\n",
       "    <tr>\n",
       "      <th>0</th>\n",
       "      <td>1</td>\n",
       "      <td>11</td>\n",
       "      <td>December 2, 2013</td>\n",
       "      <td>April 14, 2014</td>\n",
       "    </tr>\n",
       "    <tr>\n",
       "      <th>1</th>\n",
       "      <td>2</td>\n",
       "      <td>10</td>\n",
       "      <td>July 26, 2015</td>\n",
       "      <td>October 4, 2015</td>\n",
       "    </tr>\n",
       "    <tr>\n",
       "      <th>2</th>\n",
       "      <td>3</td>\n",
       "      <td>10</td>\n",
       "      <td>April 1, 2017</td>\n",
       "      <td>October 1, 2017</td>\n",
       "    </tr>\n",
       "    <tr>\n",
       "      <th>3</th>\n",
       "      <td>4</td>\n",
       "      <td>10</td>\n",
       "      <td>November 10, 2019</td>\n",
       "      <td>May 31, 2020</td>\n",
       "    </tr>\n",
       "    <tr>\n",
       "      <th>4</th>\n",
       "      <td>5</td>\n",
       "      <td>10</td>\n",
       "      <td>June 20, 2021</td>\n",
       "      <td>September 5, 2021</td>\n",
       "    </tr>\n",
       "    <tr>\n",
       "      <th>5</th>\n",
       "      <td>6</td>\n",
       "      <td>10</td>\n",
       "      <td>September 4, 2022</td>\n",
       "      <td>December 11, 2022</td>\n",
       "    </tr>\n",
       "  </tbody>\n",
       "</table>\n",
       "</div>"
      ],
      "text/plain": [
       "   Seasons Episodes        First Aired         Last Aired\n",
       "0        1       11   December 2, 2013     April 14, 2014\n",
       "1        2       10      July 26, 2015    October 4, 2015\n",
       "2        3       10      April 1, 2017    October 1, 2017\n",
       "3        4       10  November 10, 2019       May 31, 2020\n",
       "4        5       10      June 20, 2021  September 5, 2021\n",
       "5        6       10  September 4, 2022  December 11, 2022"
      ]
     },
     "execution_count": 24,
     "metadata": {},
     "output_type": "execute_result"
    }
   ],
   "source": [
    "df_tabla['First Aired'] = df_tabla['First Aired'].str.replace(r\"\\[\\w\\]\", \"\", regex=True)\n",
    "df_tabla"
   ]
  },
  {
   "cell_type": "code",
   "execution_count": 25,
   "id": "574cc83b",
   "metadata": {},
   "outputs": [],
   "source": [
    "driver.quit()"
   ]
  },
  {
   "cell_type": "markdown",
   "id": "03e4a7e6",
   "metadata": {},
   "source": [
    "Luego de eliminar el carácter adicional '[a]', logramos obtener el mismo dataframe que con Beautiful Soup, pero de una manera más sencilla y amigable al utilizar Selenium.\n",
    "\n",
    "Al utilizar Selenium, la extracción de datos se simplifica gracias a su capacidad para interactuar directamente con los elementos de la página web. Esto nos permite obtener los datos deseados de manera más eficiente y precisa, evitando la necesidad de realizar manipulaciones adicionales como en el caso de BeautifulSoup.\n",
    "\n",
    "Adicionalmente, es importante tener en cuenta que al utilizar Selenium, es necesario asegurarse de cerrar o apagar el driver adecuadamente. Esto se debe a que Selenium controla un navegador web real y es necesario finalizar la instancia del driver después de completar la extracción de datos. Esto puede lograrse mediante la función driver.quit() o similar, para liberar recursos y evitar problemas posteriores."
   ]
  },
  {
   "cell_type": "markdown",
   "id": "0d757dfe",
   "metadata": {},
   "source": [
    "## Ejercicio 2\n",
    "\n",
    "**Adjunto se encuentra un archivo en formato PDF en el repositorio, el cual facilitará la lectura y visualización del contenido de manera más conveniente.**"
   ]
  },
  {
   "cell_type": "markdown",
   "id": "c55b3567",
   "metadata": {},
   "source": [
    "**“Quotes to Scrape”**\n",
    "\n",
    "About the Website\n",
    "\n",
    "_Context:_\n",
    "La página web: http://quotes.toscrape.com contiene citas de personas famosas a lo largo de la historia.\n",
    "\n",
    "_Content:_\n",
    "* 10 citas\n",
    "* 10 autores\n",
    "* 10 tags\n",
    "\n",
    "\n",
    "**“Wikipedia – Rick and Morty”**\n",
    "\n",
    "About the Dataset\n",
    "\n",
    "_Context:_\n",
    "La información que contiene el datset es sobre el programa de televisión “Rick and Morty” que es una serie de televisión estadounidense de animación para adultos creada por Justin Roiland y Dan Harmon en 2013 para Adult Swim La serie sigue las desventuras de un científico, Rick Sanchez, y su fácilmente influenciable nieto, Morty, quienes pasan el tiempo entre la vida doméstica y los viajes espaciales, temporales e intergalácticos. \n",
    "\n",
    "_Content:_\n",
    "* 6 filas\n",
    "* 4 columnas.\n",
    "\n",
    "Lista de Columnas:\n",
    "* Seasons – Número de temporadas.\n",
    "* Episodes – Número de episodios por temporada.\n",
    "* First Aired – Fecha de cuando se transmitió el primer episodio de la temporada.\n",
    "* Last Aired – Fecha de cuando se transmitió el último episodio de la temporada.\n"
   ]
  },
  {
   "cell_type": "markdown",
   "id": "41ae9177",
   "metadata": {},
   "source": [
    "## Ejercicio 3\n",
    "\n",
    "**Elige cualquier página web que desees y realiza web scraping utilizando primero la biblioteca Selenium y luego Scrapy.**"
   ]
  },
  {
   "cell_type": "markdown",
   "id": "45f2c575",
   "metadata": {},
   "source": [
    "Para este ejercicio sólo se pudo usar la librería Selenium.\n",
    "\n",
    "**Personjes de Rick and Mory**\n",
    "\n",
    "_About the Dataset_\n",
    "\n",
    "_Context:_\n",
    "\n",
    "La información que contiene el datset es sobre el programa de televisión “Rick and Morty” que es una serie de televisión estadounidense de animación para adultos creada por Justin Roiland y Dan Harmon en 2013 para Adult Swim La serie sigue las desventuras de un científico, Rick Sanchez, y su fácilmente influenciable nieto, Morty, quienes pasan el tiempo entre la vida doméstica y los viajes espaciales, temporales e intergalácticos.\n",
    "\n",
    "_Content:_\n",
    "* 30 filas\n",
    "* 3 columnas\n",
    "\n",
    "_Lista de Columnas:_\n",
    "* Nombre - Nombre de los personajes del programa Rick and Morty.\n",
    "* Episodios - Número de episodios en los que aparecen los personajes.\n",
    "* Detalles - Información adicional en inglés sobre el personaje."
   ]
  },
  {
   "cell_type": "code",
   "execution_count": 30,
   "id": "b0a4b78e",
   "metadata": {},
   "outputs": [],
   "source": [
    "options = Options()\n",
    "options.add_argument(\"--headless\")\n",
    "\n",
    "driver = webdriver.Chrome(service=Service(ChromeDriverManager().install()), \n",
    "                            options=options)\n",
    "\n",
    "driver.get('https://comicvine.gamespot.com/rick-and-morty/4050-81059/characters/')"
   ]
  },
  {
   "cell_type": "code",
   "execution_count": 31,
   "id": "e0f78a36",
   "metadata": {},
   "outputs": [
    {
     "data": {
      "text/html": [
       "<div>\n",
       "<style scoped>\n",
       "    .dataframe tbody tr th:only-of-type {\n",
       "        vertical-align: middle;\n",
       "    }\n",
       "\n",
       "    .dataframe tbody tr th {\n",
       "        vertical-align: top;\n",
       "    }\n",
       "\n",
       "    .dataframe thead th {\n",
       "        text-align: right;\n",
       "    }\n",
       "</style>\n",
       "<table border=\"1\" class=\"dataframe\">\n",
       "  <thead>\n",
       "    <tr style=\"text-align: right;\">\n",
       "      <th></th>\n",
       "      <th>Nombre</th>\n",
       "      <th>Episodios</th>\n",
       "      <th>Detalles</th>\n",
       "    </tr>\n",
       "  </thead>\n",
       "  <tbody>\n",
       "    <tr>\n",
       "      <th>0</th>\n",
       "      <td>Morty Smith</td>\n",
       "      <td>56</td>\n",
       "      <td>The grandson of Rick Sanchez, who gets roped i...</td>\n",
       "    </tr>\n",
       "    <tr>\n",
       "      <th>1</th>\n",
       "      <td>Rick Sanchez</td>\n",
       "      <td>55</td>\n",
       "      <td>An eccentric, often drunk, genius scientist wh...</td>\n",
       "    </tr>\n",
       "    <tr>\n",
       "      <th>2</th>\n",
       "      <td>Jerry Smith</td>\n",
       "      <td>31</td>\n",
       "      <td>Morty's underachieving father and son-in-law t...</td>\n",
       "    </tr>\n",
       "    <tr>\n",
       "      <th>3</th>\n",
       "      <td>Summer Smith</td>\n",
       "      <td>31</td>\n",
       "      <td>Daughter of Beth and Jerry, sister to Morty an...</td>\n",
       "    </tr>\n",
       "    <tr>\n",
       "      <th>4</th>\n",
       "      <td>Beth Smith</td>\n",
       "      <td>23</td>\n",
       "      <td>Rick's only daughter and mother to Morty. She'...</td>\n",
       "    </tr>\n",
       "    <tr>\n",
       "      <th>5</th>\n",
       "      <td>Jessica</td>\n",
       "      <td>7</td>\n",
       "      <td>A popular girl in Morty Smith's high school. M...</td>\n",
       "    </tr>\n",
       "    <tr>\n",
       "      <th>6</th>\n",
       "      <td>Birdperson</td>\n",
       "      <td>4</td>\n",
       "      <td></td>\n",
       "    </tr>\n",
       "    <tr>\n",
       "      <th>7</th>\n",
       "      <td>Brad</td>\n",
       "      <td>4</td>\n",
       "      <td>Typical jock at Harry Herpson High School.</td>\n",
       "    </tr>\n",
       "    <tr>\n",
       "      <th>8</th>\n",
       "      <td>Doofus Rick</td>\n",
       "      <td>4</td>\n",
       "      <td>Doofus Rick is an alternate version of Rick Sa...</td>\n",
       "    </tr>\n",
       "    <tr>\n",
       "      <th>9</th>\n",
       "      <td>Peacock Jones</td>\n",
       "      <td>3</td>\n",
       "      <td>Interstellar traveller who tries to bed women.</td>\n",
       "    </tr>\n",
       "    <tr>\n",
       "      <th>10</th>\n",
       "      <td>Squanchy</td>\n",
       "      <td>3</td>\n",
       "      <td>Squanchy is a very good friend of Rick Sanchez...</td>\n",
       "    </tr>\n",
       "    <tr>\n",
       "      <th>11</th>\n",
       "      <td>Gene Vagina</td>\n",
       "      <td>3</td>\n",
       "      <td>Principal at Morty Smith's school.</td>\n",
       "    </tr>\n",
       "    <tr>\n",
       "      <th>12</th>\n",
       "      <td>Class-2 Cloner-Beast</td>\n",
       "      <td>3</td>\n",
       "      <td>This parasite can take over another being and ...</td>\n",
       "    </tr>\n",
       "    <tr>\n",
       "      <th>13</th>\n",
       "      <td>Scary Terry</td>\n",
       "      <td>2</td>\n",
       "      <td>A dream monster.</td>\n",
       "    </tr>\n",
       "    <tr>\n",
       "      <th>14</th>\n",
       "      <td>Goo Monster</td>\n",
       "      <td>2</td>\n",
       "      <td>An assassin sent by Morty (304-X) to kill Rick.</td>\n",
       "    </tr>\n",
       "    <tr>\n",
       "      <th>15</th>\n",
       "      <td>Mr. Goldenfold</td>\n",
       "      <td>2</td>\n",
       "      <td>A teacher at Morty Smith's school.</td>\n",
       "    </tr>\n",
       "    <tr>\n",
       "      <th>16</th>\n",
       "      <td>Miggs</td>\n",
       "      <td>2</td>\n",
       "      <td>Law enforcement agent charged with finding the...</td>\n",
       "    </tr>\n",
       "    <tr>\n",
       "      <th>17</th>\n",
       "      <td>Rurtaugh</td>\n",
       "      <td>2</td>\n",
       "      <td>Member of a task force charged with finding th...</td>\n",
       "    </tr>\n",
       "    <tr>\n",
       "      <th>18</th>\n",
       "      <td>Krombopulos Michael</td>\n",
       "      <td>2</td>\n",
       "      <td>Alien mercenary who just loves to kill.</td>\n",
       "    </tr>\n",
       "    <tr>\n",
       "      <th>19</th>\n",
       "      <td>The Ghost of Christmas Future</td>\n",
       "      <td>1</td>\n",
       "      <td>One of the three Ghosts of Christmas that visi...</td>\n",
       "    </tr>\n",
       "    <tr>\n",
       "      <th>20</th>\n",
       "      <td>The Ghost of Christmas Present</td>\n",
       "      <td>1</td>\n",
       "      <td>One of the three Ghosts of Christmas that visi...</td>\n",
       "    </tr>\n",
       "    <tr>\n",
       "      <th>21</th>\n",
       "      <td>The Ghost of Christmas Past</td>\n",
       "      <td>1</td>\n",
       "      <td>One of the three Ghosts of Christmas that visi...</td>\n",
       "    </tr>\n",
       "    <tr>\n",
       "      <th>22</th>\n",
       "      <td>Santa Claus</td>\n",
       "      <td>1</td>\n",
       "      <td>Santa Claus is an amalgamation of several myth...</td>\n",
       "    </tr>\n",
       "    <tr>\n",
       "      <th>23</th>\n",
       "      <td>Pickles</td>\n",
       "      <td>1</td>\n",
       "      <td>Pickles the Drummer, doodly doo, ding dong doo...</td>\n",
       "    </tr>\n",
       "    <tr>\n",
       "      <th>24</th>\n",
       "      <td>Professor Tock</td>\n",
       "      <td>1</td>\n",
       "      <td>Leader of the Time Police, who bust Rick and M...</td>\n",
       "    </tr>\n",
       "    <tr>\n",
       "      <th>25</th>\n",
       "      <td>Abrodolph Lincoler</td>\n",
       "      <td>1</td>\n",
       "      <td>Created when Rick Sanchez combined the DNA of ...</td>\n",
       "    </tr>\n",
       "    <tr>\n",
       "      <th>26</th>\n",
       "      <td>Flex Xando</td>\n",
       "      <td>1</td>\n",
       "      <td>Sportscaster for Glub 7 News.</td>\n",
       "    </tr>\n",
       "    <tr>\n",
       "      <th>27</th>\n",
       "      <td>Glarb</td>\n",
       "      <td>1</td>\n",
       "      <td>Anchorman for Glub 7 News.</td>\n",
       "    </tr>\n",
       "    <tr>\n",
       "      <th>28</th>\n",
       "      <td>Fleeblebox IV</td>\n",
       "      <td>1</td>\n",
       "      <td>Field reporter for Glub 7 News.</td>\n",
       "    </tr>\n",
       "    <tr>\n",
       "      <th>29</th>\n",
       "      <td>Greasestain</td>\n",
       "      <td>1</td>\n",
       "      <td>Courier in a food war.</td>\n",
       "    </tr>\n",
       "  </tbody>\n",
       "</table>\n",
       "</div>"
      ],
      "text/plain": [
       "                            Nombre Episodios  \\\n",
       "0                      Morty Smith        56   \n",
       "1                     Rick Sanchez        55   \n",
       "2                      Jerry Smith        31   \n",
       "3                     Summer Smith        31   \n",
       "4                       Beth Smith        23   \n",
       "5                          Jessica         7   \n",
       "6                       Birdperson         4   \n",
       "7                             Brad         4   \n",
       "8                      Doofus Rick         4   \n",
       "9                    Peacock Jones         3   \n",
       "10                        Squanchy         3   \n",
       "11                     Gene Vagina         3   \n",
       "12            Class-2 Cloner-Beast         3   \n",
       "13                     Scary Terry         2   \n",
       "14                     Goo Monster         2   \n",
       "15                  Mr. Goldenfold         2   \n",
       "16                           Miggs         2   \n",
       "17                        Rurtaugh         2   \n",
       "18             Krombopulos Michael         2   \n",
       "19   The Ghost of Christmas Future         1   \n",
       "20  The Ghost of Christmas Present         1   \n",
       "21     The Ghost of Christmas Past         1   \n",
       "22                     Santa Claus         1   \n",
       "23                         Pickles         1   \n",
       "24                  Professor Tock         1   \n",
       "25              Abrodolph Lincoler         1   \n",
       "26                      Flex Xando         1   \n",
       "27                           Glarb         1   \n",
       "28                   Fleeblebox IV         1   \n",
       "29                     Greasestain         1   \n",
       "\n",
       "                                             Detalles  \n",
       "0   The grandson of Rick Sanchez, who gets roped i...  \n",
       "1   An eccentric, often drunk, genius scientist wh...  \n",
       "2   Morty's underachieving father and son-in-law t...  \n",
       "3   Daughter of Beth and Jerry, sister to Morty an...  \n",
       "4   Rick's only daughter and mother to Morty. She'...  \n",
       "5   A popular girl in Morty Smith's high school. M...  \n",
       "6                                                      \n",
       "7          Typical jock at Harry Herpson High School.  \n",
       "8   Doofus Rick is an alternate version of Rick Sa...  \n",
       "9      Interstellar traveller who tries to bed women.  \n",
       "10  Squanchy is a very good friend of Rick Sanchez...  \n",
       "11                 Principal at Morty Smith's school.  \n",
       "12  This parasite can take over another being and ...  \n",
       "13                                   A dream monster.  \n",
       "14    An assassin sent by Morty (304-X) to kill Rick.  \n",
       "15                 A teacher at Morty Smith's school.  \n",
       "16  Law enforcement agent charged with finding the...  \n",
       "17  Member of a task force charged with finding th...  \n",
       "18            Alien mercenary who just loves to kill.  \n",
       "19  One of the three Ghosts of Christmas that visi...  \n",
       "20  One of the three Ghosts of Christmas that visi...  \n",
       "21  One of the three Ghosts of Christmas that visi...  \n",
       "22  Santa Claus is an amalgamation of several myth...  \n",
       "23  Pickles the Drummer, doodly doo, ding dong doo...  \n",
       "24  Leader of the Time Police, who bust Rick and M...  \n",
       "25  Created when Rick Sanchez combined the DNA of ...  \n",
       "26                      Sportscaster for Glub 7 News.  \n",
       "27                         Anchorman for Glub 7 News.  \n",
       "28                    Field reporter for Glub 7 News.  \n",
       "29                             Courier in a food war.  "
      ]
     },
     "execution_count": 31,
     "metadata": {},
     "output_type": "execute_result"
    }
   ],
   "source": [
    "import pandas as pd\n",
    "\n",
    "characters = driver.find_elements('xpath', '//a[@href]')\n",
    "\n",
    "data = []\n",
    "\n",
    "for character in characters:\n",
    "    nombre_elements = character.find_elements('xpath', './/h3[contains(@class, \"title\")]')\n",
    "    edad_elements = character.find_elements('xpath', './/span[contains(@class, \"further-detail\")]')\n",
    "    detalles_elements = character.find_elements('xpath', './/p')\n",
    "\n",
    "    for nombre_element, edad_element, detalle_element in zip(nombre_elements, edad_elements, detalles_elements):\n",
    "        nombre = nombre_element.text.strip()\n",
    "        edad = edad_element.text.strip()\n",
    "        detalle = detalle_element.text.strip()\n",
    "\n",
    "        data.append({'Nombre': nombre, 'Episodios': edad, 'Detalles': detalle})\n",
    "\n",
    "df_characters_selenium = pd.DataFrame(data)\n",
    "df_characters_selenium\n"
   ]
  },
  {
   "cell_type": "code",
   "execution_count": 33,
   "id": "b61358f8",
   "metadata": {},
   "outputs": [
    {
     "data": {
      "text/plain": [
       "(30, 3)"
      ]
     },
     "execution_count": 33,
     "metadata": {},
     "output_type": "execute_result"
    }
   ],
   "source": [
    "df_characters_selenium.shape"
   ]
  },
  {
   "cell_type": "code",
   "execution_count": 34,
   "id": "bc36f0f4",
   "metadata": {},
   "outputs": [],
   "source": [
    "driver.quit()"
   ]
  },
  {
   "cell_type": "markdown",
   "id": "50001f6d",
   "metadata": {},
   "source": [
    "**Observaciones Finales**\n",
    "\n",
    "Utilizando Selenium, se han extraído exitosamente los nombres de los personajes que aparecen en la serie de Rick and Morty. Lo sorprendente de este proceso de extracción es que se obtuvo la información en formato de texto y luego se convirtió en un dataframe para su posterior uso y análisis.\n",
    "\n",
    "Otra cosa interesante en esta extracción es el uso de expresiones regulares (RegEx) para extraer la información deseada directamente del código CSS de la página. Esta técnica permitió identificar patrones específicos y crear bucles que facilitaron la extracción de los nombres, episodios y detalles de los personajes.\n",
    "\n",
    "Una vez obtenida la información, se procedió a crear un dataframe utilizando la biblioteca Pandas. Esto proporciona una estructura organizada y manipulable para analizar los datos extraídos.\n",
    "\n",
    "En resumen, el uso de Selenium, junto con la implementación de RegEx y Pandas, permitió extraer de manera efectiva una base de datos de los personajes de Rick and Morty para su posterior análisis. Esta combinación de técnicas resultó en una extracción de datos eficiente y con un alto potencial de uso en proyectos y análisis posteriores."
   ]
  }
 ],
 "metadata": {
  "kernelspec": {
   "display_name": "Python 3 (ipykernel)",
   "language": "python",
   "name": "python3"
  },
  "language_info": {
   "codemirror_mode": {
    "name": "ipython",
    "version": 3
   },
   "file_extension": ".py",
   "mimetype": "text/x-python",
   "name": "python",
   "nbconvert_exporter": "python",
   "pygments_lexer": "ipython3",
   "version": "3.10.9"
  },
  "varInspector": {
   "cols": {
    "lenName": 16,
    "lenType": 16,
    "lenVar": 40
   },
   "kernels_config": {
    "python": {
     "delete_cmd_postfix": "",
     "delete_cmd_prefix": "del ",
     "library": "var_list.py",
     "varRefreshCmd": "print(var_dic_list())"
    },
    "r": {
     "delete_cmd_postfix": ") ",
     "delete_cmd_prefix": "rm(",
     "library": "var_list.r",
     "varRefreshCmd": "cat(var_dic_list()) "
    }
   },
   "types_to_exclude": [
    "module",
    "function",
    "builtin_function_or_method",
    "instance",
    "_Feature"
   ],
   "window_display": false
  }
 },
 "nbformat": 4,
 "nbformat_minor": 5
}
